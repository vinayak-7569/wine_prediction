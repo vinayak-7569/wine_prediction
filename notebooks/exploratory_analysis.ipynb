﻿{
 ""cells"": [
  {
   ""cell_type"": ""markdown"",
   ""metadata"": {},
   ""source"": [
    ""# Exploratory Data Analysis for Wine Dataset\n"",
    ""\n"",
    ""This notebook analyzes the wine dataset to understand feature relationships and distributions.""
   ]
  },
  {
   ""cell_type"": ""code"",
   ""execution_count"": null,
   ""metadata"": {},
   ""outputs"": [],
   ""source"": [
    ""import pandas as pd\n"",
    ""import matplotlib.pyplot as plt\n"",
    ""import seaborn as sns\n"",
    ""\n"",
    ""# Load dataset\n"",
    ""data = pd.read_csv('../data/raw/wine_data.csv')\n"",
    ""\n"",
    ""# Drop Id column if present\n"",
    ""data = data.drop(columns=['Id'], errors='ignore')\n"",
    ""\n"",
    ""# Basic info\n"",
    ""print(data.info())\n"",
    ""print(data.describe())\n"",
    ""\n"",
    ""# Correlation matrix\n"",
    ""plt.figure(figsize=(10, 8))\n"",
    ""sns.heatmap(data.corr(), annot=True, cmap='coolwarm')\n"",
    ""plt.title('Correlation Matrix')\n"",
    ""plt.show()\n"",
    ""\n"",
    ""# Distribution of target variable\n"",
    ""plt.figure(figsize=(8, 6))\n"",
    ""sns.histplot(data['quality'], bins=10)\n"",
    ""plt.title('Distribution of Wine Quality')\n"",
    ""plt.xlabel('Quality')\n"",
    ""plt.ylabel('Count')\n"",
    ""plt.show()\n"",
    ""\n"",
    ""# Pairplot for key features\n"",
    ""key_features = ['fixed_acidity', 'volatile_acidity', 'pH', 'quality']\n"",
    ""sns.pairplot(data[key_features], hue='quality')\n"",
    ""plt.show()\n"",
    ""\n"",
    ""# Boxplot for key features\n"",
    ""plt.figure(figsize=(10, 6))\n"",
    ""sns.boxplot(x='quality', y='fixed_acidity', data=data)\n"",
    ""plt.title('Fixed Acidity by Wine Quality')\n"",
    ""plt.show()""
   ]
  }
 ],
 ""metadata"": {
  ""kernelspec"": {
   ""display_name"": ""Python 3"",
   ""language"": ""python"",
   ""name"": ""python3""
  },
  ""language_info"": {
   ""codemirror_mode"": {
    ""name"": ""ipython"",
    ""version"": 3
   },
   ""file_extension"": "".py"",
   ""mimetype"": ""text/x-python"",
   ""name"": ""python"",
   ""nbconvert_exporter"": ""python"",
   ""pygments_lexer"": ""ipython3"",
   ""version"": ""3.8.0""
  }
 },
 ""nbformat"": 4,
 ""nbformat_minor"": 4
}
